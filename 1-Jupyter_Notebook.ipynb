{
 "cells": [
  {
   "cell_type": "markdown",
   "metadata": {},
   "source": [
    "# What are notebooks?\n",
    "\n",
    "We will be running this entire tutorial in notebooks, most of you would have seen or heard of them but for those of you who don't know them here is a quick primer.\n",
    "\n",
    "* Notebooks are a way of interleaving code, text and other rich media\n",
    "* Jupyter is the most popular platform offering notebooks\n",
    "\n",
    "<img src=\"https://upload.wikimedia.org/wikipedia/commons/thumb/3/38/Jupyter_logo.svg/883px-Jupyter_logo.svg.png\" width=20%>\n",
    "\n",
    "Notebooks have both pros and cons:\n",
    "\n",
    "* They are great for teaching because all code examples can come with explanations.\n",
    "* They are great for sharing your code and the results of your analysis.\n",
    "* They are not great for distributing your actual underlying code.\n",
    "* They make it easy to get into bad habits."
   ]
  },
  {
   "cell_type": "markdown",
   "metadata": {},
   "source": [
    "## How do I use them?\n",
    "\n",
    "Notebooks consist of so called cells, which are basically independent chunks of code or text. The most important cell types are:\n",
    "\n",
    "* **Code cells**: Allow you to write some code, execute it and see the result\n",
    "* **Markdown cells**: Allow you to write text in the Markdown format (like the text you are reading now)\n",
    "\n",
    "Now let's try running a code cell, to execute the cell below select it with your mouse or the arrow keys and press ``Shift+Enter``:"
   ]
  },
  {
   "cell_type": "code",
   "execution_count": null,
   "metadata": {},
   "outputs": [],
   "source": [
    "print('Hello Anaconda!')"
   ]
  },
  {
   "cell_type": "markdown",
   "metadata": {},
   "source": [
    "Another import piece of terminology is the `Kernel`. A Kernel is the process that runs the code in your notebook. If anything goes horribly wrong in your notebook simply ``Restart the Kernel``, to do so click `Kernel` in the menu above and then select `Restart Kernel...`.\n",
    "\n",
    "## Sharing & Exporting\n",
    "\n",
    "If you want to share a notebook containing plots or analyses without requiring them to run the code you can export it to an HTML file by clicking on `File` -> `Export notebook as...` -> `Export Notebook to HTML`. You can now email this file to anyone."
   ]
  },
  {
   "cell_type": "markdown",
   "metadata": {},
   "source": [
    "\n",
    "If you want to come back later and learn more about using Jupyter check out this [introductory guide](https://realpython.com/jupyter-notebook-introduction/). For now these are the basics we will need."
   ]
  }
 ],
 "metadata": {
  "kernelspec": {
   "display_name": "Python 3",
   "language": "python",
   "name": "python3"
  },
  "language_info": {
   "codemirror_mode": {
    "name": "ipython",
    "version": 3
   },
   "file_extension": ".py",
   "mimetype": "text/x-python",
   "name": "python",
   "nbconvert_exporter": "python",
   "pygments_lexer": "ipython3",
   "version": "3.7.0"
  }
 },
 "nbformat": 4,
 "nbformat_minor": 4
}
