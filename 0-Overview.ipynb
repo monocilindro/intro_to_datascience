{
 "cells": [
  {
   "cell_type": "markdown",
   "metadata": {},
   "source": [
    "# Overview\n",
    "\n",
    "This course is a very quick overview of data analysis in Python, it is not meant as an in-depth tutorial but as a quick primer to get you started and expose you to some of the most important concepts and libraries.\n",
    "\n",
    "1. Introduction to Jupyter notebooks (10 minutes)\n",
    "2. Tabular Data (15 minutes)\n",
    "3. Exploring and analysing data. (15 minutes)\n",
    "4. Visualizing data (30-45 minutes)\n",
    "5. Sharing analyses (30-45 minutes)\n",
    "\n",
    "Libraries used:\n",
    "    \n",
    "* [Pandas](https://pandas.pydata.org/): The library for working with tabular data in Python \n",
    "* [Intake](https://intake.readthedocs.io/en/latest/): Data catalogues for quick and easy access to data\n",
    "* [hvPlot](https://hvplot.pyviz.org): Quick, interactive plotting for Pandas (and other data)\n",
    "* [Panel](https://panel.pyviz.org): Building dashboards quickly and easily"
   ]
  }
 ],
 "metadata": {
  "kernelspec": {
   "display_name": "Python 3",
   "language": "python",
   "name": "python3"
  },
  "language_info": {
   "codemirror_mode": {
    "name": "ipython",
    "version": 3
   },
   "file_extension": ".py",
   "mimetype": "text/x-python",
   "name": "python",
   "nbconvert_exporter": "python",
   "pygments_lexer": "ipython3",
   "version": "3.7.0"
  }
 },
 "nbformat": 4,
 "nbformat_minor": 4
}
