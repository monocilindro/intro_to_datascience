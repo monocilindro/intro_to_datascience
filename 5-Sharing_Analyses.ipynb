{
 "cells": [
  {
   "cell_type": "markdown",
   "metadata": {},
   "source": [
    "# Dashboard Panels"
   ]
  },
  {
   "cell_type": "markdown",
   "metadata": {},
   "source": [
    "<img src='http://panel.pyviz.org/_static/logo_stacked.png' width=20% align='right'>\n",
    "\n",
    "Panel makes it simple to make:\n",
    "\n",
    "* Plots with user-defined controls\n",
    "* Property sheets for editing parameters of objects in a workflow\n",
    "* Control panels for simulations or experiments\n",
    "* Custom data-exploration tools\n",
    "* Dashboards reporting key performance indicators (KPIs) and trends\n",
    "* Data-rich Python-backed web servers\n",
    "* and anything in between\n",
    "\n",
    "There are three key components to a Panel:\n",
    "\n",
    "* `Pane` objects allow wrapping external viewable items like Bokeh, Plotly, Vega, or HoloViews plots, so they can be embedded in a panel.\n",
    "* `Widget` objects provide controls that can trigger Python or JavaScript events.\n",
    "* `Panel` layout objects allow combining plots into a Row, Column, Tabs or a Grid."
   ]
  },
  {
   "cell_type": "markdown",
   "metadata": {},
   "source": [
    "# Table of Contents\n",
    "* [Dashboard Panels](#Dashboard-Panels)\n",
    "\t* [Setup](#Setup)\n",
    "\t* [Pane types](#Pane-types)\n",
    "\t* [Rows and Columns](#Rows-and-Columns)\n",
    "\t* [Widgets](#Widgets)\n",
    "\t* [Full Dashboard](#Full-Dashboard)\n",
    "\t* [Deployments](#Deployments)\n"
   ]
  },
  {
   "cell_type": "markdown",
   "metadata": {},
   "source": [
    "## Setup"
   ]
  },
  {
   "cell_type": "code",
   "execution_count": null,
   "metadata": {},
   "outputs": [],
   "source": [
    "import matplotlib\n",
    "matplotlib.use('agg')\n",
    "\n",
    "import pandas as pd\n",
    "import hvplot.pandas\n",
    "import panel as pn\n",
    "pn.extension()"
   ]
  },
  {
   "cell_type": "code",
   "execution_count": null,
   "metadata": {},
   "outputs": [],
   "source": [
    "auto = pd.read_csv('auto-mpg.csv')"
   ]
  },
  {
   "cell_type": "markdown",
   "metadata": {},
   "source": [
    "## Pane types"
   ]
  },
  {
   "cell_type": "markdown",
   "metadata": {},
   "source": [
    "Panel also allows text, images, plots, and other objects to be composed into a visualization.."
   ]
  },
  {
   "cell_type": "code",
   "execution_count": null,
   "metadata": {},
   "outputs": [],
   "source": [
    "title = pn.panel('# Plots of the `auto-mpg` data set', width=700)\n",
    "title"
   ]
  },
  {
   "cell_type": "code",
   "execution_count": null,
   "metadata": {},
   "outputs": [],
   "source": [
    "image = pn.panel('http://panel.pyviz.org/_static/logo_stacked.png', width=80)\n",
    "image"
   ]
  },
  {
   "cell_type": "markdown",
   "metadata": {},
   "source": [
    "## Rows and Columns"
   ]
  },
  {
   "cell_type": "markdown",
   "metadata": {},
   "source": [
    "To construct the full visualization, *Panes* are composed into *Rows* and *Columns*."
   ]
  },
  {
   "cell_type": "code",
   "execution_count": null,
   "metadata": {},
   "outputs": [],
   "source": [
    "top = pn.Row(title, image)\n",
    "top"
   ]
  },
  {
   "cell_type": "markdown",
   "metadata": {},
   "source": [
    "HoloViews (hvplot) objects are automatically converted into Panes when included in Rows and Columns. For Matplotlib objets it is best to use the figure itself, rather than the axes."
   ]
  },
  {
   "cell_type": "code",
   "execution_count": null,
   "metadata": {},
   "outputs": [],
   "source": [
    "scatter1 = auto.hvplot.scatter(x='hp', y='mpg', by='origin', width=500, height=300)\n",
    "\n",
    "kde = auto['mpg'].plot.kde().get_figure()"
   ]
  },
  {
   "cell_type": "code",
   "execution_count": null,
   "metadata": {},
   "outputs": [],
   "source": [
    "plots = pn.Row(kde, scatter1)"
   ]
  },
  {
   "cell_type": "markdown",
   "metadata": {},
   "source": [
    "The full panel is a collection of Rows and columns."
   ]
  },
  {
   "cell_type": "code",
   "execution_count": null,
   "metadata": {},
   "outputs": [],
   "source": [
    "panel = pn.Column(top, plots)\n",
    "panel"
   ]
  },
  {
   "cell_type": "markdown",
   "metadata": {},
   "source": [
    "Here's the complete specification as a single column of two Rows.\n",
    "\n",
    "```python\n",
    "panel = pn.Column(\n",
    "    pn.Row(title, image),\n",
    "    pn.Row(kde, scatter1)\n",
    ")\n",
    "```"
   ]
  },
  {
   "cell_type": "markdown",
   "metadata": {},
   "source": [
    "## Widgets"
   ]
  },
  {
   "cell_type": "markdown",
   "metadata": {},
   "source": [
    "Instead of using the `@interact` decorator, which automatically generates widgets, they can be constructed and included separately in *Rows* and *Columns*.\n",
    "\n",
    "See the [Widget documentation](https://panel.pyviz.org/user_guide/Widgets.html) for more options."
   ]
  },
  {
   "cell_type": "code",
   "execution_count": null,
   "metadata": {},
   "outputs": [],
   "source": [
    "min_year = int(auto['yr'].min())\n",
    "max_year = int(auto['yr'].max())\n",
    "increment = 1\n",
    "\n",
    "year = pn.widgets.IntSlider(name='Year',\n",
    "                            start=min_year,\n",
    "                            end=max_year,\n",
    "                            step=increment,\n",
    "                            value=min_year,\n",
    "                            width=800)\n",
    "\n",
    "metric = pn.widgets.RadioBoxGroup(name='Metric',\n",
    "                                  options=['mpg','displ','hp','weight','accel'])"
   ]
  },
  {
   "cell_type": "code",
   "execution_count": null,
   "metadata": {},
   "outputs": [],
   "source": [
    "@pn.depends(year, metric)\n",
    "def average(year, metric):\n",
    "    idx = auto['yr'] == year\n",
    "    values = auto[metric]\n",
    "    return auto.loc[idx, metric].hvplot.kde(width=800, xlim=(values.min(), values.max()))\n",
    "\n",
    "average_pane = pn.Column(\n",
    "    year, pn.Row(average, metric)\n",
    ")\n",
    "average_pane"
   ]
  },
  {
   "cell_type": "markdown",
   "metadata": {},
   "source": [
    "## Full Dashboard"
   ]
  },
  {
   "cell_type": "markdown",
   "metadata": {},
   "source": [
    "Panes allow composition of the entire dashboard including widgets, text, images, etc. The `+` operation is best used when you want the plots to *share tools*. In this case the X ranges are linked."
   ]
  },
  {
   "cell_type": "code",
   "execution_count": null,
   "metadata": {},
   "outputs": [],
   "source": [
    "plot_opts = {\n",
    "    'by':'origin',\n",
    "    'hover_cols': ['name','yr','cyl'],\n",
    "    'width':400,\n",
    "}\n",
    "\n",
    "scatter1 = auto.hvplot.scatter(x='hp', y='mpg',     legend='top_right',    **plot_opts)\n",
    "scatter2 = auto.hvplot.scatter(x='hp', y='weight',  legend='bottom_right', **plot_opts)\n",
    "scatter = scatter1 + scatter2\n",
    "scatter"
   ]
  },
  {
   "cell_type": "code",
   "execution_count": null,
   "metadata": {},
   "outputs": [],
   "source": [
    "dashboard = pn.Column(\n",
    "    top, scatter, average_pane\n",
    ")\n",
    "dashboard"
   ]
  },
  {
   "cell_type": "markdown",
   "metadata": {},
   "source": [
    "## Deployments"
   ]
  },
  {
   "cell_type": "markdown",
   "metadata": {},
   "source": [
    "Any *Pane*, *Row*, or *Column* object can be served as a dashboard from within the Notebook or script file with the member method `.servable()`. This indicates to the Panel Server that only those plots will appear in the deployment."
   ]
  },
  {
   "cell_type": "code",
   "execution_count": null,
   "metadata": {},
   "outputs": [],
   "source": [
    "dashboard.servable();"
   ]
  }
 ],
 "metadata": {
  "kernelspec": {
   "display_name": "Python 3",
   "language": "python",
   "name": "python3"
  },
  "language_info": {
   "codemirror_mode": {
    "name": "ipython",
    "version": 3
   },
   "file_extension": ".py",
   "mimetype": "text/x-python",
   "name": "python",
   "nbconvert_exporter": "python",
   "pygments_lexer": "ipython3",
   "version": "3.7.0"
  }
 },
 "nbformat": 4,
 "nbformat_minor": 4
}
