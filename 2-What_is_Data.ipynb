{
 "cells": [
  {
   "cell_type": "markdown",
   "metadata": {},
   "source": [
    "# What is data?\n",
    "\n",
    "This seems like a very simple question, but what is data in a computer really? To a computer everything that can be represented as a string of bits is considered data whether that is a numbers, text, to audio and video. For data scientists and business analysts what we refer to as data is usually just a bunch of tables and that is what we will be focusing on here.\n",
    "\n",
    "Almost everyone here will be familiar with Excel, but the way data is organized in an Excel sheet is often very different to the organization that is needed when working with the data programmatically."
   ]
  },
  {
   "cell_type": "markdown",
   "metadata": {},
   "source": [
    "## Tidy data vs wide data vs messy data\n",
    "\n",
    "In data science we therefore have specific terminology for different ways of laying out data. The most common and convenient of which is **tidy** data:\n",
    "\n",
    "<img src=\"https://d33wubrfki0l68.cloudfront.net/6f1ddb544fc5c69a2478e444ab8112fb0eea23f8/91adc/images/tidy-1.png\" width=50%>\n",
    "\n",
    "<center> Tidy data: Following three rules makes a dataset tidy: variables are in columns, observations are in rows, and values are in cells. (<a href=\"https://r4ds.had.co.nz/tidy-data.html\">Source: Hadley Wickham: R for Data Science</a>)</center>\n",
    "\n",
    "<br>\n",
    "\n",
    "Tidy data is very convenient for a number of reasons:\n",
    "\n",
    "1. Easy to visualize by mapping columns to visual properties\n",
    "2. Easy to analyse by subsetting or grouping data by some column(s)\n",
    "3. Consistent data formats make it easier to reason about\n",
    "\n",
    "**Wide** data on the other hand is very common when working in Excel, because it is visually easier to scan for some value. Take a look at this diagram for instance:\n",
    "\n",
    "<img src=\"https://d33wubrfki0l68.cloudfront.net/3aea19108d39606bbe49981acda07696c0c7fcd8/2de65/images/tidy-9.png\" width=70%>\n",
    "\n",
    "<center>Wide vs Tidy Data: Difference between wide data (table 4) and tidy data. (<a href=\"https://r4ds.had.co.nz/tidy-data.html\">Source: Hadley Wickham: R for Data Science</a>)</center>\n",
    "\n",
    "\n",
    "Sadly a lot of data is **messy** and doesn't conform to either format, transforming this kind of data sadly takes up a lot of peoples time and there are no good solutions. Learning how to transform data from one format to another is a major part of being a confident data science practioner but it is out of scope in this tutorial."
   ]
  },
  {
   "cell_type": "markdown",
   "metadata": {},
   "source": [
    "## Common data formats\n",
    "\n",
    "The most common tabular data formats you will come across include: \n",
    "\n",
    "* CSV/TSV\n",
    "* Excel files\n",
    "* SQL (or other databases)\n",
    "* Parquet\n",
    "\n",
    "This is where pandas comes in, it will load data from all these different formats and allow us to work with them from within Python:"
   ]
  },
  {
   "cell_type": "code",
   "execution_count": null,
   "metadata": {},
   "outputs": [],
   "source": [
    "import pandas as pd\n",
    "\n",
    "pd.read_csv('./mpg.csv')"
   ]
  },
  {
   "cell_type": "markdown",
   "metadata": {},
   "source": [
    "Similarly to read an Excel file you can use:"
   ]
  },
  {
   "cell_type": "code",
   "execution_count": null,
   "metadata": {},
   "outputs": [],
   "source": [
    "pd.read_excel"
   ]
  },
  {
   "cell_type": "markdown",
   "metadata": {},
   "source": [
    "## Data catalogues\n",
    "\n",
    "<img src=\"https://intake.readthedocs.io/en/latest/_static/images/logo.png\" width=20%></img>\n",
    "\n",
    "Intake (developed at Anaconda) makes it easy to abstract away the difference between all these different formats and access data catalogues in a consistent way. The long term goal at Anaconda should be that we make as much data as possible accessible this way (with appropriate access controls in place)."
   ]
  }
 ],
 "metadata": {
  "kernelspec": {
   "display_name": "Python 3",
   "language": "python",
   "name": "python3"
  },
  "language_info": {
   "codemirror_mode": {
    "name": "ipython",
    "version": 3
   },
   "file_extension": ".py",
   "mimetype": "text/x-python",
   "name": "python",
   "nbconvert_exporter": "python",
   "pygments_lexer": "ipython3",
   "version": "3.7.0"
  }
 },
 "nbformat": 4,
 "nbformat_minor": 4
}
